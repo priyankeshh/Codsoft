{
 "cells": [
  {
   "cell_type": "code",
   "execution_count": 1,
   "id": "993cdb38",
   "metadata": {
    "_cell_guid": "b1076dfc-b9ad-4769-8c92-a6c4dae69d19",
    "_uuid": "8f2839f25d086af736a60e9eeb907d3b93b6e0e5",
    "execution": {
     "iopub.execute_input": "2024-05-21T14:23:28.199621Z",
     "iopub.status.busy": "2024-05-21T14:23:28.199168Z",
     "iopub.status.idle": "2024-05-21T14:23:29.313210Z",
     "shell.execute_reply": "2024-05-21T14:23:29.311991Z"
    },
    "papermill": {
     "duration": 1.124163,
     "end_time": "2024-05-21T14:23:29.316226",
     "exception": false,
     "start_time": "2024-05-21T14:23:28.192063",
     "status": "completed"
    },
    "tags": []
   },
   "outputs": [],
   "source": [
    "import numpy as np\n",
    "import pandas as pd"
   ]
  },
  {
   "cell_type": "code",
   "execution_count": 2,
   "id": "b1972e9b",
   "metadata": {
    "execution": {
     "iopub.execute_input": "2024-05-21T14:23:29.327682Z",
     "iopub.status.busy": "2024-05-21T14:23:29.327095Z",
     "iopub.status.idle": "2024-05-21T14:23:31.652169Z",
     "shell.execute_reply": "2024-05-21T14:23:31.651108Z"
    },
    "papermill": {
     "duration": 2.333847,
     "end_time": "2024-05-21T14:23:31.654978",
     "exception": false,
     "start_time": "2024-05-21T14:23:29.321131",
     "status": "completed"
    },
    "tags": []
   },
   "outputs": [],
   "source": [
    "import numpy as np \n",
    "import pandas as pd \n",
    "from scipy.stats import mode \n",
    "import matplotlib.pyplot as plt \n",
    "import seaborn as sns \n",
    "from sklearn.preprocessing import LabelEncoder \n",
    "from sklearn.model_selection import train_test_split, cross_val_score \n",
    "from sklearn.svm import SVC \n",
    "from sklearn.naive_bayes import GaussianNB \n",
    "from sklearn.ensemble import RandomForestClassifier \n",
    "from sklearn.metrics import accuracy_score, confusion_matrix, classification_report, roc_curve, roc_auc_score\n"
   ]
  },
  {
   "cell_type": "code",
   "execution_count": 3,
   "id": "c85e6491",
   "metadata": {
    "execution": {
     "iopub.execute_input": "2024-05-21T14:23:31.667128Z",
     "iopub.status.busy": "2024-05-21T14:23:31.665819Z",
     "iopub.status.idle": "2024-05-21T14:23:32.067508Z",
     "shell.execute_reply": "2024-05-21T14:23:32.066243Z"
    },
    "papermill": {
     "duration": 0.41091,
     "end_time": "2024-05-21T14:23:32.070511",
     "exception": false,
     "start_time": "2024-05-21T14:23:31.659601",
     "status": "completed"
    },
    "tags": []
   },
   "outputs": [
    {
     "name": "stdout",
     "output_type": "stream",
     "text": [
      "<class 'pandas.core.frame.DataFrame'>\n",
      "RangeIndex: 10000 entries, 0 to 9999\n",
      "Data columns (total 14 columns):\n",
      " #   Column             Non-Null Count  Dtype  \n",
      "---  ------             --------------  -----  \n",
      " 0   CreditScore        10000 non-null  int64  \n",
      " 1   Age                10000 non-null  int64  \n",
      " 2   Tenure             10000 non-null  int64  \n",
      " 3   Balance            10000 non-null  float64\n",
      " 4   NumOfProducts      10000 non-null  int64  \n",
      " 5   HasCrCard          10000 non-null  int64  \n",
      " 6   IsActiveMember     10000 non-null  int64  \n",
      " 7   EstimatedSalary    10000 non-null  float64\n",
      " 8   Exited             10000 non-null  int64  \n",
      " 9   Geography_France   10000 non-null  bool   \n",
      " 10  Geography_Germany  10000 non-null  bool   \n",
      " 11  Geography_Spain    10000 non-null  bool   \n",
      " 12  Gender_Female      10000 non-null  bool   \n",
      " 13  Gender_Male        10000 non-null  bool   \n",
      "dtypes: bool(5), float64(2), int64(7)\n",
      "memory usage: 752.1 KB\n"
     ]
    },
    {
     "data": {
      "image/png": "[encoded data removed]",
      "text/plain": [
       "<Figure size 1000x600 with 1 Axes>"
      ]
     },
     "metadata": {},
     "output_type": "display_data"
    }
   ],
   "source": [
    "data = pd.read_csv('./dataset/Churn_Modelling.csv').dropna(axis=1)\n",
    "data.drop(columns=['Surname', 'RowNumber', 'CustomerId'], inplace=True)\n",
    "data = pd.get_dummies(data, columns=['Geography', 'Gender'])\n",
    "data.info()\n",
    "\n",
    "churn_count = data['Exited'].value_counts()\n",
    "temp_df = pd.DataFrame({\n",
    "    'Exited':churn_count.index,\n",
    "    'Counts': churn_count.values\n",
    "})\n",
    "\n",
    "plt.figure(figsize=(10, 6))\n",
    "sns.barplot(x='Exited', y='Counts', data=temp_df)\n",
    "plt.xticks(rotation=90)\n",
    "plt.show()"
   ]
  },
  {
   "cell_type": "code",
   "execution_count": 4,
   "id": "aac63901",
   "metadata": {
    "execution": {
     "iopub.execute_input": "2024-05-21T14:23:32.082275Z",
     "iopub.status.busy": "2024-05-21T14:23:32.081823Z",
     "iopub.status.idle": "2024-05-21T14:23:32.096351Z",
     "shell.execute_reply": "2024-05-21T14:23:32.095027Z"
    },
    "papermill": {
     "duration": 0.023841,
     "end_time": "2024-05-21T14:23:32.099212",
     "exception": false,
     "start_time": "2024-05-21T14:23:32.075371",
     "status": "completed"
    },
    "tags": []
   },
   "outputs": [
    {
     "name": "stdout",
     "output_type": "stream",
     "text": [
      "(8000, 13)\n",
      "(2000, 13)\n"
     ]
    }
   ],
   "source": [
    "X = data.iloc[:, :-1]\n",
    "y = data.iloc[:, -1]\n",
    "\n",
    "X_train, X_test, y_train, y_test = train_test_split(X, y, test_size=0.2, random_state=42)\n",
    "print(X_train.shape)\n",
    "print(X_test.shape)"
   ]
  },
  {
   "cell_type": "code",
   "execution_count": 5,
   "id": "bb825d6f",
   "metadata": {
    "execution": {
     "iopub.execute_input": "2024-05-21T14:23:32.112724Z",
     "iopub.status.busy": "2024-05-21T14:23:32.111528Z",
     "iopub.status.idle": "2024-05-21T14:23:32.121915Z",
     "shell.execute_reply": "2024-05-21T14:23:32.120673Z"
    },
    "papermill": {
     "duration": 0.019873,
     "end_time": "2024-05-21T14:23:32.124797",
     "exception": false,
     "start_time": "2024-05-21T14:23:32.104924",
     "status": "completed"
    },
    "tags": []
   },
   "outputs": [
    {
     "name": "stdout",
     "output_type": "stream",
     "text": [
      "(1000, 13)\n",
      "(1000, 13)\n"
     ]
    }
   ],
   "source": [
    "X_test, X_val, y_test, y_val = train_test_split(X_test, y_test, test_size=0.5, random_state=42)\n",
    "print(X_test.shape)\n",
    "print(X_val.shape)"
   ]
  },
  {
   "cell_type": "code",
   "execution_count": 6,
   "id": "eef306b9",
   "metadata": {
    "execution": {
     "iopub.execute_input": "2024-05-21T14:23:32.137288Z",
     "iopub.status.busy": "2024-05-21T14:23:32.136881Z",
     "iopub.status.idle": "2024-05-21T14:24:00.605245Z",
     "shell.execute_reply": "2024-05-21T14:24:00.604111Z"
    },
    "papermill": {
     "duration": 28.477373,
     "end_time": "2024-05-21T14:24:00.607674",
     "exception": false,
     "start_time": "2024-05-21T14:23:32.130301",
     "status": "completed"
    },
    "tags": []
   },
   "outputs": [
    {
     "name": "stdout",
     "output_type": "stream",
     "text": [
      "============================================================\n",
      "SVC\n",
      "Scores: [0.545 0.545 0.545 0.546 0.546 0.546 0.546 0.546 0.546 0.546]\n",
      "Mean Score: 0.5457000000000001\n",
      "============================================================\n",
      "Gaussian NB\n",
      "Scores: [0.619 0.591 0.619 0.603 0.639 0.613 0.614 0.616 0.607 0.592]\n",
      "Mean Score: 0.6113\n",
      "============================================================\n",
      "Random Forest\n",
      "Scores: [1. 1. 1. 1. 1. 1. 1. 1. 1. 1.]\n",
      "Mean Score: 1.0\n"
     ]
    }
   ],
   "source": [
    "def cv_scoring(estimator, X, y): \n",
    "    return accuracy_score(y, estimator.predict(X)) \n",
    "  \n",
    "models = { \n",
    "    \"SVC\":SVC(), \n",
    "    \"Gaussian NB\":GaussianNB(), \n",
    "    \"Random Forest\":RandomForestClassifier(random_state=18) \n",
    "} \n",
    "  \n",
    "for model_name in models: \n",
    "    model = models[model_name] \n",
    "    scores = cross_val_score(model, X, y, cv = 10,  \n",
    "                             n_jobs = -1,  \n",
    "                             scoring = cv_scoring) \n",
    "    print(\"==\"*30) \n",
    "    print(model_name) \n",
    "    print(f\"Scores: {scores}\") \n",
    "    print(f\"Mean Score: {np.mean(scores)}\")"
   ]
  },
  {
   "cell_type": "markdown",
   "id": "1cc37db5",
   "metadata": {
    "papermill": {
     "duration": 0.005007,
     "end_time": "2024-05-21T14:24:00.618060",
     "exception": false,
     "start_time": "2024-05-21T14:24:00.613053",
     "status": "completed"
    },
    "tags": []
   },
   "source": [
    "From the above output we notice that our Random Forest Classifier is performing very well and the mean score after K-fold Cross Validation is also very high, so we will fill the data on Random Forest Classifier Algorithm."
   ]
  },
  {
   "cell_type": "code",
   "execution_count": 7,
   "id": "3b348b62",
   "metadata": {
    "execution": {
     "iopub.execute_input": "2024-05-21T14:24:00.631013Z",
     "iopub.status.busy": "2024-05-21T14:24:00.630525Z",
     "iopub.status.idle": "2024-05-21T14:24:01.762983Z",
     "shell.execute_reply": "2024-05-21T14:24:01.761886Z"
    },
    "papermill": {
     "duration": 1.142214,
     "end_time": "2024-05-21T14:24:01.765479",
     "exception": false,
     "start_time": "2024-05-21T14:24:00.623265",
     "status": "completed"
    },
    "tags": []
   },
   "outputs": [
    {
     "name": "stdout",
     "output_type": "stream",
     "text": [
      "Accuracy on train data by Random Forest Classifier: 100.0\n",
      "Accuracy on test data by Random Forest Classifier: 100.0\n"
     ]
    },
    {
     "data": {
      "image/png": "[encoded data removed]",
      "text/plain": [
       "<Figure size 1200x800 with 2 Axes>"
      ]
     },
     "metadata": {},
     "output_type": "display_data"
    }
   ],
   "source": [
    "rf_model = RandomForestClassifier(random_state=18) \n",
    "rf_model.fit(X_train, y_train) \n",
    "preds = rf_model.predict(X_val) \n",
    "print(f\"Accuracy on train data by Random Forest Classifier: {accuracy_score(y_train, rf_model.predict(X_train))*100}\") \n",
    "  \n",
    "print(f\"Accuracy on test data by Random Forest Classifier: {accuracy_score(y_val, preds)*100}\") \n",
    "  \n",
    "cf_matrix = confusion_matrix(y_val, preds) \n",
    "plt.figure(figsize=(12,8)) \n",
    "sns.heatmap(cf_matrix, annot=True) \n",
    "plt.title(\"Confusion Matrix for Random Forest Classifier on Test Data\") \n",
    "plt.show()"
   ]
  },
  {
   "cell_type": "code",
   "execution_count": 8,
   "id": "8747c099",
   "metadata": {
    "execution": {
     "iopub.execute_input": "2024-05-21T14:24:01.780082Z",
     "iopub.status.busy": "2024-05-21T14:24:01.779132Z",
     "iopub.status.idle": "2024-05-21T14:24:02.165218Z",
     "shell.execute_reply": "2024-05-21T14:24:02.163256Z"
    },
    "papermill": {
     "duration": 0.396424,
     "end_time": "2024-05-21T14:24:02.167856",
     "exception": false,
     "start_time": "2024-05-21T14:24:01.771432",
     "status": "completed"
    },
    "tags": []
   },
   "outputs": [
    {
     "name": "stdout",
     "output_type": "stream",
     "text": [
      "Accuracy of the model on test dataset: 1.0\n",
      "Confusion Matrix:\n",
      "[[463   0]\n",
      " [  0 537]]\n",
      "Classification Report:\n",
      "              precision    recall  f1-score   support\n",
      "\n",
      "       False       1.00      1.00      1.00       463\n",
      "        True       1.00      1.00      1.00       537\n",
      "\n",
      "    accuracy                           1.00      1000\n",
      "   macro avg       1.00      1.00      1.00      1000\n",
      "weighted avg       1.00      1.00      1.00      1000\n",
      "\n"
     ]
    },
    {
     "data": {
      "image/png": "[encoded data removed]",
      "text/plain": [
       "<Figure size 640x480 with 1 Axes>"
      ]
     },
     "metadata": {},
     "output_type": "display_data"
    }
   ],
   "source": [
    "y_pred = rf_model.predict(X_test)\n",
    "print(f\"Accuracy of the model on test dataset: {accuracy_score(y_test, y_pred)}\")\n",
    "\n",
    "#Confusion Matrix\n",
    "cm = confusion_matrix(y_test, y_pred)\n",
    "print(f'Confusion Matrix:\\n{cm}')\n",
    "\n",
    "#Classification Report\n",
    "report = classification_report(y_test, y_pred)\n",
    "print(f'Classification Report:\\n{report}')\n",
    "\n",
    "#ROC Curve and AUC\n",
    "y_proba = rf_model.predict_proba(X_test)[:, 1]\n",
    "auc = roc_auc_score(y_test, y_proba)\n",
    "fpr, tpr, _ = roc_curve(y_test, y_proba)\n",
    "\n",
    "import matplotlib.pyplot as plt\n",
    "plt.figure()\n",
    "plt.plot(fpr, tpr, label=f'ROC curve (area = {auc:.2f})')\n",
    "plt.xlabel('False Positive Rate')\n",
    "plt.ylabel('True Positive Rate')\n",
    "plt.title('Receiver Operating Characteristic')\n",
    "plt.legend(loc='lower right')\n",
    "plt.show()"
   ]
  }
 ],
 "metadata": {
  "kaggle": {
   "accelerator": "none",
   "dataSources": [
    {
     "datasetId": 2008274,
     "sourceId": 3322096,
     "sourceType": "datasetVersion"
    }
   ],
   "dockerImageVersionId": 30698,
   "isGpuEnabled": false,
   "isInternetEnabled": true,
   "language": "python",
   "sourceType": "notebook"
  },
  "kernelspec": {
   "display_name": "Python 3",
   "language": "python",
   "name": "python3"
  },
  "language_info": {
   "codemirror_mode": {
    "name": "ipython",
    "version": 3
   },
   "file_extension": ".py",
   "mimetype": "text/x-python",
   "name": "python",
   "nbconvert_exporter": "python",
   "pygments_lexer": "ipython3",
   "version": "3.12.3"
  },
  "papermill": {
   "default_parameters": {},
   "duration": 40.042973,
   "end_time": "2024-05-21T14:24:04.797777",
   "environment_variables": {},
   "exception": null,
   "input_path": "__notebook__.ipynb",
   "output_path": "__notebook__.ipynb",
   "parameters": {},
   "start_time": "2024-05-21T14:23:24.754804",
   "version": "2.5.0"
  }
 },
 "nbformat": 4,
 "nbformat_minor": 5
}
